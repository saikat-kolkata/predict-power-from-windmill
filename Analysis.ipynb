{
 "cells": [
  {
   "cell_type": "markdown",
   "metadata": {},
   "source": [
    "## HackerEarth Machine Learning Challenge. Predict the power that is generated in kW/h provided in the dataset"
   ]
  },
  {
   "cell_type": "markdown",
   "metadata": {},
   "source": [
    "### EDA\n",
    "\n",
    "#### Introduction to dataset"
   ]
  },
  {
   "cell_type": "code",
   "execution_count": 1,
   "metadata": {},
   "outputs": [],
   "source": [
    "#import libraries\n",
    "import pandas as pd\n",
    "import numpy as np\n",
    "import matplotlib.pyplot as plt\n",
    "import seaborn as sns"
   ]
  },
  {
   "cell_type": "code",
   "execution_count": 2,
   "metadata": {},
   "outputs": [],
   "source": [
    "pd.pandas.set_option('display.max_rows',None)\n",
    "pd.pandas.set_option('display.max_columns',None)"
   ]
  },
  {
   "cell_type": "code",
   "execution_count": 3,
   "metadata": {},
   "outputs": [],
   "source": [
    "#load data\n",
    "data_train = pd.read_csv('D:\\\\Hackathon\\\\predict the power\\\\dataset\\\\train.csv')\n",
    "data_test = pd.read_csv('D:\\\\Hackathon\\\\predict the power\\\\dataset\\\\test.csv')"
   ]
  },
  {
   "cell_type": "code",
   "execution_count": 4,
   "metadata": {},
   "outputs": [
    {
     "data": {
      "text/html": [
       "<div>\n",
       "<style scoped>\n",
       "    .dataframe tbody tr th:only-of-type {\n",
       "        vertical-align: middle;\n",
       "    }\n",
       "\n",
       "    .dataframe tbody tr th {\n",
       "        vertical-align: top;\n",
       "    }\n",
       "\n",
       "    .dataframe thead th {\n",
       "        text-align: right;\n",
       "    }\n",
       "</style>\n",
       "<table border=\"1\" class=\"dataframe\">\n",
       "  <thead>\n",
       "    <tr style=\"text-align: right;\">\n",
       "      <th></th>\n",
       "      <th>tracking_id</th>\n",
       "      <th>datetime</th>\n",
       "      <th>wind_speed(m/s)</th>\n",
       "      <th>atmospheric_temperature(°C)</th>\n",
       "      <th>shaft_temperature(°C)</th>\n",
       "      <th>blades_angle(°)</th>\n",
       "      <th>gearbox_temperature(°C)</th>\n",
       "      <th>engine_temperature(°C)</th>\n",
       "      <th>motor_torque(N-m)</th>\n",
       "      <th>generator_temperature(°C)</th>\n",
       "      <th>atmospheric_pressure(Pascal)</th>\n",
       "      <th>area_temperature(°C)</th>\n",
       "      <th>windmill_body_temperature(°C)</th>\n",
       "      <th>wind_direction(°)</th>\n",
       "      <th>resistance(ohm)</th>\n",
       "      <th>rotor_torque(N-m)</th>\n",
       "      <th>turbine_status</th>\n",
       "      <th>cloud_level</th>\n",
       "      <th>blade_length(m)</th>\n",
       "      <th>blade_breadth(m)</th>\n",
       "      <th>windmill_height(m)</th>\n",
       "      <th>windmill_generated_power(kW/h)</th>\n",
       "    </tr>\n",
       "  </thead>\n",
       "  <tbody>\n",
       "    <tr>\n",
       "      <th>0</th>\n",
       "      <td>WM_33725</td>\n",
       "      <td>2019-08-04 14:33:20</td>\n",
       "      <td>94.820023</td>\n",
       "      <td>-99.000000</td>\n",
       "      <td>41.723019</td>\n",
       "      <td>-0.903423</td>\n",
       "      <td>82.410573</td>\n",
       "      <td>42.523015</td>\n",
       "      <td>2563.124522</td>\n",
       "      <td>76.665560</td>\n",
       "      <td>103402.961872</td>\n",
       "      <td>26.897875</td>\n",
       "      <td>NaN</td>\n",
       "      <td>239.836388</td>\n",
       "      <td>2730.310605</td>\n",
       "      <td>42.084666</td>\n",
       "      <td>BA</td>\n",
       "      <td>Medium</td>\n",
       "      <td>2.217542</td>\n",
       "      <td>0.314065</td>\n",
       "      <td>24.281689</td>\n",
       "      <td>6.766521</td>\n",
       "    </tr>\n",
       "    <tr>\n",
       "      <th>1</th>\n",
       "      <td>WM_698</td>\n",
       "      <td>2018-11-05 10:13:20</td>\n",
       "      <td>241.832734</td>\n",
       "      <td>27.764785</td>\n",
       "      <td>-99.000000</td>\n",
       "      <td>-99.000000</td>\n",
       "      <td>44.104919</td>\n",
       "      <td>46.258870</td>\n",
       "      <td>2372.384119</td>\n",
       "      <td>78.129803</td>\n",
       "      <td>17030.904078</td>\n",
       "      <td>39.801469</td>\n",
       "      <td>NaN</td>\n",
       "      <td>337.944723</td>\n",
       "      <td>1780.207200</td>\n",
       "      <td>107.888643</td>\n",
       "      <td>A2</td>\n",
       "      <td>Medium</td>\n",
       "      <td>4.210346</td>\n",
       "      <td>0.448494</td>\n",
       "      <td>27.262139</td>\n",
       "      <td>5.966275</td>\n",
       "    </tr>\n",
       "    <tr>\n",
       "      <th>2</th>\n",
       "      <td>WM_39146</td>\n",
       "      <td>2019-09-14 14:03:20</td>\n",
       "      <td>95.484724</td>\n",
       "      <td>NaN</td>\n",
       "      <td>41.855473</td>\n",
       "      <td>12.652763</td>\n",
       "      <td>42.322098</td>\n",
       "      <td>42.878552</td>\n",
       "      <td>1657.169646</td>\n",
       "      <td>67.654469</td>\n",
       "      <td>16125.927107</td>\n",
       "      <td>36.116065</td>\n",
       "      <td>45.033197</td>\n",
       "      <td>227.850294</td>\n",
       "      <td>1666.049900</td>\n",
       "      <td>-42.931459</td>\n",
       "      <td>ABC</td>\n",
       "      <td>Medium</td>\n",
       "      <td>2.719475</td>\n",
       "      <td>0.302321</td>\n",
       "      <td>27.366127</td>\n",
       "      <td>2.874342</td>\n",
       "    </tr>\n",
       "  </tbody>\n",
       "</table>\n",
       "</div>"
      ],
      "text/plain": [
       "  tracking_id             datetime  wind_speed(m/s)  \\\n",
       "0    WM_33725  2019-08-04 14:33:20        94.820023   \n",
       "1      WM_698  2018-11-05 10:13:20       241.832734   \n",
       "2    WM_39146  2019-09-14 14:03:20        95.484724   \n",
       "\n",
       "   atmospheric_temperature(°C)  shaft_temperature(°C)  blades_angle(°)  \\\n",
       "0                   -99.000000              41.723019        -0.903423   \n",
       "1                    27.764785             -99.000000       -99.000000   \n",
       "2                          NaN              41.855473        12.652763   \n",
       "\n",
       "   gearbox_temperature(°C)  engine_temperature(°C)  motor_torque(N-m)  \\\n",
       "0                82.410573               42.523015        2563.124522   \n",
       "1                44.104919               46.258870        2372.384119   \n",
       "2                42.322098               42.878552        1657.169646   \n",
       "\n",
       "   generator_temperature(°C)  atmospheric_pressure(Pascal)  \\\n",
       "0                  76.665560                 103402.961872   \n",
       "1                  78.129803                  17030.904078   \n",
       "2                  67.654469                  16125.927107   \n",
       "\n",
       "   area_temperature(°C)  windmill_body_temperature(°C)  wind_direction(°)  \\\n",
       "0             26.897875                            NaN         239.836388   \n",
       "1             39.801469                            NaN         337.944723   \n",
       "2             36.116065                      45.033197         227.850294   \n",
       "\n",
       "   resistance(ohm)  rotor_torque(N-m) turbine_status cloud_level  \\\n",
       "0      2730.310605          42.084666             BA      Medium   \n",
       "1      1780.207200         107.888643             A2      Medium   \n",
       "2      1666.049900         -42.931459            ABC      Medium   \n",
       "\n",
       "   blade_length(m)  blade_breadth(m)  windmill_height(m)  \\\n",
       "0         2.217542          0.314065           24.281689   \n",
       "1         4.210346          0.448494           27.262139   \n",
       "2         2.719475          0.302321           27.366127   \n",
       "\n",
       "   windmill_generated_power(kW/h)  \n",
       "0                        6.766521  \n",
       "1                        5.966275  \n",
       "2                        2.874342  "
      ]
     },
     "execution_count": 4,
     "metadata": {},
     "output_type": "execute_result"
    }
   ],
   "source": [
    "data_train.head(3)"
   ]
  },
  {
   "cell_type": "code",
   "execution_count": 5,
   "metadata": {},
   "outputs": [
    {
     "data": {
      "text/html": [
       "<div>\n",
       "<style scoped>\n",
       "    .dataframe tbody tr th:only-of-type {\n",
       "        vertical-align: middle;\n",
       "    }\n",
       "\n",
       "    .dataframe tbody tr th {\n",
       "        vertical-align: top;\n",
       "    }\n",
       "\n",
       "    .dataframe thead th {\n",
       "        text-align: right;\n",
       "    }\n",
       "</style>\n",
       "<table border=\"1\" class=\"dataframe\">\n",
       "  <thead>\n",
       "    <tr style=\"text-align: right;\">\n",
       "      <th></th>\n",
       "      <th>tracking_id</th>\n",
       "      <th>datetime</th>\n",
       "      <th>wind_speed(m/s)</th>\n",
       "      <th>atmospheric_temperature(°C)</th>\n",
       "      <th>shaft_temperature(°C)</th>\n",
       "      <th>blades_angle(°)</th>\n",
       "      <th>gearbox_temperature(°C)</th>\n",
       "      <th>engine_temperature(°C)</th>\n",
       "      <th>motor_torque(N-m)</th>\n",
       "      <th>generator_temperature(°C)</th>\n",
       "      <th>atmospheric_pressure(Pascal)</th>\n",
       "      <th>area_temperature(°C)</th>\n",
       "      <th>windmill_body_temperature(°C)</th>\n",
       "      <th>wind_direction(°)</th>\n",
       "      <th>resistance(ohm)</th>\n",
       "      <th>rotor_torque(N-m)</th>\n",
       "      <th>turbine_status</th>\n",
       "      <th>cloud_level</th>\n",
       "      <th>blade_length(m)</th>\n",
       "      <th>blade_breadth(m)</th>\n",
       "      <th>windmill_height(m)</th>\n",
       "    </tr>\n",
       "  </thead>\n",
       "  <tbody>\n",
       "    <tr>\n",
       "      <th>0</th>\n",
       "      <td>WM_19817</td>\n",
       "      <td>2019-04-17 08:53:20</td>\n",
       "      <td>94.324266</td>\n",
       "      <td>17.641186</td>\n",
       "      <td>89.714193</td>\n",
       "      <td>51.146788</td>\n",
       "      <td>40.460560</td>\n",
       "      <td>39.594734</td>\n",
       "      <td>1073.202715</td>\n",
       "      <td>66.830037</td>\n",
       "      <td>16681.044117</td>\n",
       "      <td>24.004812</td>\n",
       "      <td>43.756693</td>\n",
       "      <td>445.976992</td>\n",
       "      <td>1664.222023</td>\n",
       "      <td>21.912243</td>\n",
       "      <td>BA</td>\n",
       "      <td>Medium</td>\n",
       "      <td>3.185837</td>\n",
       "      <td>0.403965</td>\n",
       "      <td>25.572431</td>\n",
       "    </tr>\n",
       "    <tr>\n",
       "      <th>1</th>\n",
       "      <td>WM_18723</td>\n",
       "      <td>2019-03-30 07:43:20</td>\n",
       "      <td>10.088870</td>\n",
       "      <td>13.978119</td>\n",
       "      <td>43.272846</td>\n",
       "      <td>46.516394</td>\n",
       "      <td>40.027788</td>\n",
       "      <td>41.176860</td>\n",
       "      <td>517.436430</td>\n",
       "      <td>37.284163</td>\n",
       "      <td>NaN</td>\n",
       "      <td>29.431813</td>\n",
       "      <td>42.728174</td>\n",
       "      <td>499.595287</td>\n",
       "      <td>1165.111992</td>\n",
       "      <td>-35.050093</td>\n",
       "      <td>A</td>\n",
       "      <td>Medium</td>\n",
       "      <td>3.016603</td>\n",
       "      <td>0.444755</td>\n",
       "      <td>24.371823</td>\n",
       "    </tr>\n",
       "    <tr>\n",
       "      <th>2</th>\n",
       "      <td>WM_34552</td>\n",
       "      <td>2019-08-10 11:33:20</td>\n",
       "      <td>347.152090</td>\n",
       "      <td>31.423035</td>\n",
       "      <td>41.076640</td>\n",
       "      <td>26.931602</td>\n",
       "      <td>43.109122</td>\n",
       "      <td>43.439556</td>\n",
       "      <td>1480.716492</td>\n",
       "      <td>70.010762</td>\n",
       "      <td>214812.836175</td>\n",
       "      <td>29.924235</td>\n",
       "      <td>43.256122</td>\n",
       "      <td>245.432231</td>\n",
       "      <td>1667.720491</td>\n",
       "      <td>27.195302</td>\n",
       "      <td>B2</td>\n",
       "      <td>Medium</td>\n",
       "      <td>2.611941</td>\n",
       "      <td>0.387368</td>\n",
       "      <td>27.654677</td>\n",
       "    </tr>\n",
       "  </tbody>\n",
       "</table>\n",
       "</div>"
      ],
      "text/plain": [
       "  tracking_id             datetime  wind_speed(m/s)  \\\n",
       "0    WM_19817  2019-04-17 08:53:20        94.324266   \n",
       "1    WM_18723  2019-03-30 07:43:20        10.088870   \n",
       "2    WM_34552  2019-08-10 11:33:20       347.152090   \n",
       "\n",
       "   atmospheric_temperature(°C)  shaft_temperature(°C)  blades_angle(°)  \\\n",
       "0                    17.641186              89.714193        51.146788   \n",
       "1                    13.978119              43.272846        46.516394   \n",
       "2                    31.423035              41.076640        26.931602   \n",
       "\n",
       "   gearbox_temperature(°C)  engine_temperature(°C)  motor_torque(N-m)  \\\n",
       "0                40.460560               39.594734        1073.202715   \n",
       "1                40.027788               41.176860         517.436430   \n",
       "2                43.109122               43.439556        1480.716492   \n",
       "\n",
       "   generator_temperature(°C)  atmospheric_pressure(Pascal)  \\\n",
       "0                  66.830037                  16681.044117   \n",
       "1                  37.284163                           NaN   \n",
       "2                  70.010762                 214812.836175   \n",
       "\n",
       "   area_temperature(°C)  windmill_body_temperature(°C)  wind_direction(°)  \\\n",
       "0             24.004812                      43.756693         445.976992   \n",
       "1             29.431813                      42.728174         499.595287   \n",
       "2             29.924235                      43.256122         245.432231   \n",
       "\n",
       "   resistance(ohm)  rotor_torque(N-m) turbine_status cloud_level  \\\n",
       "0      1664.222023          21.912243             BA      Medium   \n",
       "1      1165.111992         -35.050093              A      Medium   \n",
       "2      1667.720491          27.195302             B2      Medium   \n",
       "\n",
       "   blade_length(m)  blade_breadth(m)  windmill_height(m)  \n",
       "0         3.185837          0.403965           25.572431  \n",
       "1         3.016603          0.444755           24.371823  \n",
       "2         2.611941          0.387368           27.654677  "
      ]
     },
     "execution_count": 5,
     "metadata": {},
     "output_type": "execute_result"
    }
   ],
   "source": [
    "data_test.head(3)"
   ]
  },
  {
   "cell_type": "code",
   "execution_count": 6,
   "metadata": {},
   "outputs": [
    {
     "name": "stdout",
     "output_type": "stream",
     "text": [
      "Train Test (28200, 22)\n",
      "Test Test (12086, 21)\n"
     ]
    }
   ],
   "source": [
    "print('Train Test',data_train.shape)\n",
    "print('Test Test',data_test.shape)"
   ]
  },
  {
   "cell_type": "markdown",
   "metadata": {},
   "source": [
    "#### Find the NULL values"
   ]
  },
  {
   "cell_type": "code",
   "execution_count": 7,
   "metadata": {},
   "outputs": [
    {
     "name": "stdout",
     "output_type": "stream",
     "text": [
      "wind_speed(m/s) ---------- 273 ---------- 0.97 %\n",
      "atmospheric_temperature(°C) ---------- 3450 ---------- 12.23 %\n",
      "shaft_temperature(°C) ---------- 2 ---------- 0.01 %\n",
      "blades_angle(°) ---------- 216 ---------- 0.77 %\n",
      "gearbox_temperature(°C) ---------- 1 ---------- 0.0 %\n",
      "engine_temperature(°C) ---------- 12 ---------- 0.04 %\n",
      "motor_torque(N-m) ---------- 24 ---------- 0.09 %\n",
      "generator_temperature(°C) ---------- 12 ---------- 0.04 %\n",
      "atmospheric_pressure(Pascal) ---------- 2707 ---------- 9.6 %\n",
      "windmill_body_temperature(°C) ---------- 2363 ---------- 8.38 %\n",
      "wind_direction(°) ---------- 5103 ---------- 18.1 %\n",
      "resistance(ohm) ---------- 1 ---------- 0.0 %\n",
      "rotor_torque(N-m) ---------- 572 ---------- 2.03 %\n",
      "turbine_status ---------- 1759 ---------- 6.24 %\n",
      "cloud_level ---------- 276 ---------- 0.98 %\n",
      "blade_length(m) ---------- 5093 ---------- 18.06 %\n",
      "windmill_height(m) ---------- 543 ---------- 1.93 %\n",
      "windmill_generated_power(kW/h) ---------- 207 ---------- 0.73 %\n"
     ]
    }
   ],
   "source": [
    "for col in data_train.columns:\n",
    "    if data_train[col].isnull().sum()>0:\n",
    "        print(col,'----------',data_train[col].isnull().sum(),'----------',round(data_train[col].isnull().sum()/len(data_train)*100,2),'%')"
   ]
  },
  {
   "cell_type": "code",
   "execution_count": 8,
   "metadata": {},
   "outputs": [
    {
     "name": "stdout",
     "output_type": "stream",
     "text": [
      "wind_speed(m/s) ---------- 126 ---------- 1.04 %\n",
      "atmospheric_temperature(°C) ---------- 1427 ---------- 11.81 %\n",
      "shaft_temperature(°C) ---------- 1 ---------- 0.01 %\n",
      "blades_angle(°) ---------- 106 ---------- 0.88 %\n",
      "gearbox_temperature(°C) ---------- 1 ---------- 0.01 %\n",
      "engine_temperature(°C) ---------- 5 ---------- 0.04 %\n",
      "motor_torque(N-m) ---------- 11 ---------- 0.09 %\n",
      "generator_temperature(°C) ---------- 5 ---------- 0.04 %\n",
      "atmospheric_pressure(Pascal) ---------- 1151 ---------- 9.52 %\n",
      "area_temperature(°C) ---------- 1 ---------- 0.01 %\n",
      "windmill_body_temperature(°C) ---------- 926 ---------- 7.66 %\n",
      "wind_direction(°) ---------- 2160 ---------- 17.87 %\n",
      "rotor_torque(N-m) ---------- 281 ---------- 2.33 %\n",
      "turbine_status ---------- 797 ---------- 6.59 %\n",
      "cloud_level ---------- 125 ---------- 1.03 %\n",
      "blade_length(m) ---------- 2114 ---------- 17.49 %\n",
      "windmill_height(m) ---------- 255 ---------- 2.11 %\n"
     ]
    }
   ],
   "source": [
    "for col in data_test.columns:\n",
    "    if data_test[col].isnull().sum()>0:\n",
    "        print(col,'----------',data_test[col].isnull().sum(),'----------',round(data_test[col].isnull().sum()/len(data_test)*100,2),'%')"
   ]
  },
  {
   "cell_type": "code",
   "execution_count": 9,
   "metadata": {},
   "outputs": [
    {
     "data": {
      "text/plain": [
       "BB     1946\n",
       "AAA    1939\n",
       "BCB    1933\n",
       "B2     1931\n",
       "A      1930\n",
       "D      1922\n",
       "B      1882\n",
       "AB     1868\n",
       "ABC    1867\n",
       "A2     1855\n",
       "BA     1854\n",
       "AC     1850\n",
       "BD     1843\n",
       "BBB    1821\n",
       "Name: turbine_status, dtype: int64"
      ]
     },
     "execution_count": 9,
     "metadata": {},
     "output_type": "execute_result"
    }
   ],
   "source": [
    "#No of values in turbine_status field\n",
    "\n",
    "data_train['turbine_status'].value_counts()"
   ]
  },
  {
   "cell_type": "code",
   "execution_count": 10,
   "metadata": {},
   "outputs": [
    {
     "data": {
      "text/plain": [
       "Low              13921\n",
       "Medium           13704\n",
       "Extremely Low      299\n",
       "Name: cloud_level, dtype: int64"
      ]
     },
     "execution_count": 10,
     "metadata": {},
     "output_type": "execute_result"
    }
   ],
   "source": [
    "##No of values in cloud_level field\n",
    "\n",
    "data_train['cloud_level'].value_counts()#[:2]"
   ]
  },
  {
   "cell_type": "markdown",
   "metadata": {},
   "source": [
    "### Feature Engineering"
   ]
  },
  {
   "cell_type": "code",
   "execution_count": 11,
   "metadata": {},
   "outputs": [],
   "source": [
    "#dummy variable creation for categorical variable cloud_level\n",
    "\n",
    "data_train = pd.get_dummies(data_train,columns=['cloud_level'])\n",
    "\n",
    "#Test set\n",
    "\n",
    "data_test = pd.get_dummies(data_test,columns=['cloud_level'])"
   ]
  },
  {
   "cell_type": "code",
   "execution_count": 12,
   "metadata": {},
   "outputs": [],
   "source": [
    "#label encoding done for the field turbine_status\n",
    "\n",
    "from sklearn import preprocessing\n",
    "lb = preprocessing.LabelEncoder()\n",
    "\n",
    "data_train['turbine_status'].ffill(inplace=True)\n",
    "data_train['turbine_status'] = data_train['turbine_status'].astype('category')\n",
    "\n",
    "data_train['turbine_status'] = lb.fit_transform(data_train['turbine_status'])\n",
    "\n",
    "#Test set\n",
    "\n",
    "data_test['turbine_status'].ffill(inplace=True)\n",
    "data_test['turbine_status'] = data_test['turbine_status'].astype('category')\n",
    "\n",
    "data_test['turbine_status'] = lb.fit_transform(data_test['turbine_status'])"
   ]
  },
  {
   "cell_type": "code",
   "execution_count": 13,
   "metadata": {},
   "outputs": [
    {
     "data": {
      "text/html": [
       "<div>\n",
       "<style scoped>\n",
       "    .dataframe tbody tr th:only-of-type {\n",
       "        vertical-align: middle;\n",
       "    }\n",
       "\n",
       "    .dataframe tbody tr th {\n",
       "        vertical-align: top;\n",
       "    }\n",
       "\n",
       "    .dataframe thead th {\n",
       "        text-align: right;\n",
       "    }\n",
       "</style>\n",
       "<table border=\"1\" class=\"dataframe\">\n",
       "  <thead>\n",
       "    <tr style=\"text-align: right;\">\n",
       "      <th></th>\n",
       "      <th>tracking_id</th>\n",
       "      <th>datetime</th>\n",
       "      <th>wind_speed(m/s)</th>\n",
       "      <th>atmospheric_temperature(°C)</th>\n",
       "      <th>shaft_temperature(°C)</th>\n",
       "      <th>blades_angle(°)</th>\n",
       "      <th>gearbox_temperature(°C)</th>\n",
       "      <th>engine_temperature(°C)</th>\n",
       "      <th>motor_torque(N-m)</th>\n",
       "      <th>generator_temperature(°C)</th>\n",
       "      <th>atmospheric_pressure(Pascal)</th>\n",
       "      <th>area_temperature(°C)</th>\n",
       "      <th>windmill_body_temperature(°C)</th>\n",
       "      <th>wind_direction(°)</th>\n",
       "      <th>resistance(ohm)</th>\n",
       "      <th>rotor_torque(N-m)</th>\n",
       "      <th>turbine_status</th>\n",
       "      <th>blade_length(m)</th>\n",
       "      <th>blade_breadth(m)</th>\n",
       "      <th>windmill_height(m)</th>\n",
       "      <th>windmill_generated_power(kW/h)</th>\n",
       "      <th>cloud_level_Extremely Low</th>\n",
       "      <th>cloud_level_Low</th>\n",
       "      <th>cloud_level_Medium</th>\n",
       "    </tr>\n",
       "  </thead>\n",
       "  <tbody>\n",
       "    <tr>\n",
       "      <th>0</th>\n",
       "      <td>WM_33725</td>\n",
       "      <td>2019-08-04 14:33:20</td>\n",
       "      <td>94.820023</td>\n",
       "      <td>-99.000000</td>\n",
       "      <td>41.723019</td>\n",
       "      <td>-0.903423</td>\n",
       "      <td>82.410573</td>\n",
       "      <td>42.523015</td>\n",
       "      <td>2563.124522</td>\n",
       "      <td>76.665560</td>\n",
       "      <td>103402.961872</td>\n",
       "      <td>26.897875</td>\n",
       "      <td>NaN</td>\n",
       "      <td>239.836388</td>\n",
       "      <td>2730.310605</td>\n",
       "      <td>42.084666</td>\n",
       "      <td>8</td>\n",
       "      <td>2.217542</td>\n",
       "      <td>0.314065</td>\n",
       "      <td>24.281689</td>\n",
       "      <td>6.766521</td>\n",
       "      <td>0</td>\n",
       "      <td>0</td>\n",
       "      <td>1</td>\n",
       "    </tr>\n",
       "    <tr>\n",
       "      <th>1</th>\n",
       "      <td>WM_698</td>\n",
       "      <td>2018-11-05 10:13:20</td>\n",
       "      <td>241.832734</td>\n",
       "      <td>27.764785</td>\n",
       "      <td>-99.000000</td>\n",
       "      <td>-99.000000</td>\n",
       "      <td>44.104919</td>\n",
       "      <td>46.258870</td>\n",
       "      <td>2372.384119</td>\n",
       "      <td>78.129803</td>\n",
       "      <td>17030.904078</td>\n",
       "      <td>39.801469</td>\n",
       "      <td>NaN</td>\n",
       "      <td>337.944723</td>\n",
       "      <td>1780.207200</td>\n",
       "      <td>107.888643</td>\n",
       "      <td>1</td>\n",
       "      <td>4.210346</td>\n",
       "      <td>0.448494</td>\n",
       "      <td>27.262139</td>\n",
       "      <td>5.966275</td>\n",
       "      <td>0</td>\n",
       "      <td>0</td>\n",
       "      <td>1</td>\n",
       "    </tr>\n",
       "    <tr>\n",
       "      <th>2</th>\n",
       "      <td>WM_39146</td>\n",
       "      <td>2019-09-14 14:03:20</td>\n",
       "      <td>95.484724</td>\n",
       "      <td>NaN</td>\n",
       "      <td>41.855473</td>\n",
       "      <td>12.652763</td>\n",
       "      <td>42.322098</td>\n",
       "      <td>42.878552</td>\n",
       "      <td>1657.169646</td>\n",
       "      <td>67.654469</td>\n",
       "      <td>16125.927107</td>\n",
       "      <td>36.116065</td>\n",
       "      <td>45.033197</td>\n",
       "      <td>227.850294</td>\n",
       "      <td>1666.049900</td>\n",
       "      <td>-42.931459</td>\n",
       "      <td>4</td>\n",
       "      <td>2.719475</td>\n",
       "      <td>0.302321</td>\n",
       "      <td>27.366127</td>\n",
       "      <td>2.874342</td>\n",
       "      <td>0</td>\n",
       "      <td>0</td>\n",
       "      <td>1</td>\n",
       "    </tr>\n",
       "  </tbody>\n",
       "</table>\n",
       "</div>"
      ],
      "text/plain": [
       "  tracking_id             datetime  wind_speed(m/s)  \\\n",
       "0    WM_33725  2019-08-04 14:33:20        94.820023   \n",
       "1      WM_698  2018-11-05 10:13:20       241.832734   \n",
       "2    WM_39146  2019-09-14 14:03:20        95.484724   \n",
       "\n",
       "   atmospheric_temperature(°C)  shaft_temperature(°C)  blades_angle(°)  \\\n",
       "0                   -99.000000              41.723019        -0.903423   \n",
       "1                    27.764785             -99.000000       -99.000000   \n",
       "2                          NaN              41.855473        12.652763   \n",
       "\n",
       "   gearbox_temperature(°C)  engine_temperature(°C)  motor_torque(N-m)  \\\n",
       "0                82.410573               42.523015        2563.124522   \n",
       "1                44.104919               46.258870        2372.384119   \n",
       "2                42.322098               42.878552        1657.169646   \n",
       "\n",
       "   generator_temperature(°C)  atmospheric_pressure(Pascal)  \\\n",
       "0                  76.665560                 103402.961872   \n",
       "1                  78.129803                  17030.904078   \n",
       "2                  67.654469                  16125.927107   \n",
       "\n",
       "   area_temperature(°C)  windmill_body_temperature(°C)  wind_direction(°)  \\\n",
       "0             26.897875                            NaN         239.836388   \n",
       "1             39.801469                            NaN         337.944723   \n",
       "2             36.116065                      45.033197         227.850294   \n",
       "\n",
       "   resistance(ohm)  rotor_torque(N-m)  turbine_status  blade_length(m)  \\\n",
       "0      2730.310605          42.084666               8         2.217542   \n",
       "1      1780.207200         107.888643               1         4.210346   \n",
       "2      1666.049900         -42.931459               4         2.719475   \n",
       "\n",
       "   blade_breadth(m)  windmill_height(m)  windmill_generated_power(kW/h)  \\\n",
       "0          0.314065           24.281689                        6.766521   \n",
       "1          0.448494           27.262139                        5.966275   \n",
       "2          0.302321           27.366127                        2.874342   \n",
       "\n",
       "   cloud_level_Extremely Low  cloud_level_Low  cloud_level_Medium  \n",
       "0                          0                0                   1  \n",
       "1                          0                0                   1  \n",
       "2                          0                0                   1  "
      ]
     },
     "execution_count": 13,
     "metadata": {},
     "output_type": "execute_result"
    }
   ],
   "source": [
    "data_train.head(3)"
   ]
  },
  {
   "cell_type": "code",
   "execution_count": 14,
   "metadata": {},
   "outputs": [],
   "source": [
    "#Extract month and no-of-weeks from the time stamp\n",
    "\n",
    "data_train['datetime'] = pd.to_datetime(data_train['datetime'])\n",
    "\n",
    "data_train['date_month'] = data_train['datetime'].apply(lambda x: x.month)\n",
    "data_train['date_week'] = data_train['datetime'].apply(lambda x: x.week)"
   ]
  },
  {
   "cell_type": "code",
   "execution_count": 15,
   "metadata": {},
   "outputs": [],
   "source": [
    "#Test set\n",
    "\n",
    "data_test['datetime'] = pd.to_datetime(data_test['datetime'])\n",
    "\n",
    "data_test['date_month'] = data_test['datetime'].apply(lambda x: x.month)\n",
    "data_test['date_week'] = data_test['datetime'].apply(lambda x: x.week)"
   ]
  },
  {
   "cell_type": "markdown",
   "metadata": {},
   "source": [
    "### Preprocessing the data"
   ]
  },
  {
   "cell_type": "code",
   "execution_count": 16,
   "metadata": {},
   "outputs": [
    {
     "data": {
      "text/plain": [
       "207"
      ]
     },
     "execution_count": 16,
     "metadata": {},
     "output_type": "execute_result"
    }
   ],
   "source": [
    "#The target field has NULLs windmill_generated_power(kW/h)\n",
    "\n",
    "data_train['windmill_generated_power(kW/h)'].isnull().sum()"
   ]
  },
  {
   "cell_type": "code",
   "execution_count": 17,
   "metadata": {},
   "outputs": [
    {
     "data": {
      "text/plain": [
       "(28200, 26)"
      ]
     },
     "execution_count": 17,
     "metadata": {},
     "output_type": "execute_result"
    }
   ],
   "source": [
    "#shape of data before dropping columns with NULL\n",
    "data_train.shape"
   ]
  },
  {
   "cell_type": "code",
   "execution_count": 18,
   "metadata": {},
   "outputs": [],
   "source": [
    "data_train.dropna(subset=['windmill_generated_power(kW/h)'],inplace=True) #Rows have been droped where target is NULL"
   ]
  },
  {
   "cell_type": "code",
   "execution_count": 19,
   "metadata": {},
   "outputs": [
    {
     "data": {
      "text/plain": [
       "(27993, 26)"
      ]
     },
     "execution_count": 19,
     "metadata": {},
     "output_type": "execute_result"
    }
   ],
   "source": [
    "#shape of data after dropping NULL\n",
    "data_train.shape"
   ]
  },
  {
   "cell_type": "code",
   "execution_count": 20,
   "metadata": {},
   "outputs": [
    {
     "data": {
      "text/html": [
       "<div>\n",
       "<style scoped>\n",
       "    .dataframe tbody tr th:only-of-type {\n",
       "        vertical-align: middle;\n",
       "    }\n",
       "\n",
       "    .dataframe tbody tr th {\n",
       "        vertical-align: top;\n",
       "    }\n",
       "\n",
       "    .dataframe thead th {\n",
       "        text-align: right;\n",
       "    }\n",
       "</style>\n",
       "<table border=\"1\" class=\"dataframe\">\n",
       "  <thead>\n",
       "    <tr style=\"text-align: right;\">\n",
       "      <th></th>\n",
       "      <th>wind_speed(m/s)</th>\n",
       "      <th>atmospheric_temperature(°C)</th>\n",
       "      <th>shaft_temperature(°C)</th>\n",
       "      <th>blades_angle(°)</th>\n",
       "      <th>gearbox_temperature(°C)</th>\n",
       "      <th>engine_temperature(°C)</th>\n",
       "      <th>motor_torque(N-m)</th>\n",
       "      <th>generator_temperature(°C)</th>\n",
       "      <th>atmospheric_pressure(Pascal)</th>\n",
       "      <th>area_temperature(°C)</th>\n",
       "      <th>windmill_body_temperature(°C)</th>\n",
       "      <th>wind_direction(°)</th>\n",
       "      <th>resistance(ohm)</th>\n",
       "      <th>rotor_torque(N-m)</th>\n",
       "      <th>turbine_status</th>\n",
       "      <th>blade_length(m)</th>\n",
       "      <th>blade_breadth(m)</th>\n",
       "      <th>windmill_height(m)</th>\n",
       "      <th>windmill_generated_power(kW/h)</th>\n",
       "      <th>cloud_level_Extremely Low</th>\n",
       "      <th>cloud_level_Low</th>\n",
       "      <th>cloud_level_Medium</th>\n",
       "      <th>date_month</th>\n",
       "      <th>date_week</th>\n",
       "    </tr>\n",
       "  </thead>\n",
       "  <tbody>\n",
       "    <tr>\n",
       "      <th>0</th>\n",
       "      <td>94.820023</td>\n",
       "      <td>-99.000000</td>\n",
       "      <td>41.723019</td>\n",
       "      <td>-0.903423</td>\n",
       "      <td>82.410573</td>\n",
       "      <td>42.523015</td>\n",
       "      <td>2563.124522</td>\n",
       "      <td>76.665560</td>\n",
       "      <td>103402.961872</td>\n",
       "      <td>26.897875</td>\n",
       "      <td>NaN</td>\n",
       "      <td>239.836388</td>\n",
       "      <td>2730.310605</td>\n",
       "      <td>42.084666</td>\n",
       "      <td>8</td>\n",
       "      <td>2.217542</td>\n",
       "      <td>0.314065</td>\n",
       "      <td>24.281689</td>\n",
       "      <td>6.766521</td>\n",
       "      <td>0</td>\n",
       "      <td>0</td>\n",
       "      <td>1</td>\n",
       "      <td>8</td>\n",
       "      <td>31</td>\n",
       "    </tr>\n",
       "    <tr>\n",
       "      <th>1</th>\n",
       "      <td>241.832734</td>\n",
       "      <td>27.764785</td>\n",
       "      <td>-99.000000</td>\n",
       "      <td>-99.000000</td>\n",
       "      <td>44.104919</td>\n",
       "      <td>46.258870</td>\n",
       "      <td>2372.384119</td>\n",
       "      <td>78.129803</td>\n",
       "      <td>17030.904078</td>\n",
       "      <td>39.801469</td>\n",
       "      <td>NaN</td>\n",
       "      <td>337.944723</td>\n",
       "      <td>1780.207200</td>\n",
       "      <td>107.888643</td>\n",
       "      <td>1</td>\n",
       "      <td>4.210346</td>\n",
       "      <td>0.448494</td>\n",
       "      <td>27.262139</td>\n",
       "      <td>5.966275</td>\n",
       "      <td>0</td>\n",
       "      <td>0</td>\n",
       "      <td>1</td>\n",
       "      <td>11</td>\n",
       "      <td>45</td>\n",
       "    </tr>\n",
       "  </tbody>\n",
       "</table>\n",
       "</div>"
      ],
      "text/plain": [
       "   wind_speed(m/s)  atmospheric_temperature(°C)  shaft_temperature(°C)  \\\n",
       "0        94.820023                   -99.000000              41.723019   \n",
       "1       241.832734                    27.764785             -99.000000   \n",
       "\n",
       "   blades_angle(°)  gearbox_temperature(°C)  engine_temperature(°C)  \\\n",
       "0        -0.903423                82.410573               42.523015   \n",
       "1       -99.000000                44.104919               46.258870   \n",
       "\n",
       "   motor_torque(N-m)  generator_temperature(°C)  atmospheric_pressure(Pascal)  \\\n",
       "0        2563.124522                  76.665560                 103402.961872   \n",
       "1        2372.384119                  78.129803                  17030.904078   \n",
       "\n",
       "   area_temperature(°C)  windmill_body_temperature(°C)  wind_direction(°)  \\\n",
       "0             26.897875                            NaN         239.836388   \n",
       "1             39.801469                            NaN         337.944723   \n",
       "\n",
       "   resistance(ohm)  rotor_torque(N-m)  turbine_status  blade_length(m)  \\\n",
       "0      2730.310605          42.084666               8         2.217542   \n",
       "1      1780.207200         107.888643               1         4.210346   \n",
       "\n",
       "   blade_breadth(m)  windmill_height(m)  windmill_generated_power(kW/h)  \\\n",
       "0          0.314065           24.281689                        6.766521   \n",
       "1          0.448494           27.262139                        5.966275   \n",
       "\n",
       "   cloud_level_Extremely Low  cloud_level_Low  cloud_level_Medium  date_month  \\\n",
       "0                          0                0                   1           8   \n",
       "1                          0                0                   1          11   \n",
       "\n",
       "   date_week  \n",
       "0         31  \n",
       "1         45  "
      ]
     },
     "execution_count": 20,
     "metadata": {},
     "output_type": "execute_result"
    }
   ],
   "source": [
    "# data set for train - after remove two columns\n",
    "\n",
    "df_train = data_train.iloc[:,2:]\n",
    "df_train.head(2)"
   ]
  },
  {
   "cell_type": "code",
   "execution_count": 21,
   "metadata": {},
   "outputs": [
    {
     "data": {
      "text/html": [
       "<div>\n",
       "<style scoped>\n",
       "    .dataframe tbody tr th:only-of-type {\n",
       "        vertical-align: middle;\n",
       "    }\n",
       "\n",
       "    .dataframe tbody tr th {\n",
       "        vertical-align: top;\n",
       "    }\n",
       "\n",
       "    .dataframe thead th {\n",
       "        text-align: right;\n",
       "    }\n",
       "</style>\n",
       "<table border=\"1\" class=\"dataframe\">\n",
       "  <thead>\n",
       "    <tr style=\"text-align: right;\">\n",
       "      <th></th>\n",
       "      <th>wind_speed(m/s)</th>\n",
       "      <th>atmospheric_temperature(°C)</th>\n",
       "      <th>shaft_temperature(°C)</th>\n",
       "      <th>blades_angle(°)</th>\n",
       "      <th>gearbox_temperature(°C)</th>\n",
       "      <th>engine_temperature(°C)</th>\n",
       "      <th>motor_torque(N-m)</th>\n",
       "      <th>generator_temperature(°C)</th>\n",
       "      <th>atmospheric_pressure(Pascal)</th>\n",
       "      <th>area_temperature(°C)</th>\n",
       "      <th>windmill_body_temperature(°C)</th>\n",
       "      <th>wind_direction(°)</th>\n",
       "      <th>resistance(ohm)</th>\n",
       "      <th>rotor_torque(N-m)</th>\n",
       "      <th>turbine_status</th>\n",
       "      <th>blade_length(m)</th>\n",
       "      <th>blade_breadth(m)</th>\n",
       "      <th>windmill_height(m)</th>\n",
       "      <th>cloud_level_Extremely Low</th>\n",
       "      <th>cloud_level_Low</th>\n",
       "      <th>cloud_level_Medium</th>\n",
       "      <th>date_month</th>\n",
       "      <th>date_week</th>\n",
       "    </tr>\n",
       "  </thead>\n",
       "  <tbody>\n",
       "    <tr>\n",
       "      <th>0</th>\n",
       "      <td>94.324266</td>\n",
       "      <td>17.641186</td>\n",
       "      <td>89.714193</td>\n",
       "      <td>51.146788</td>\n",
       "      <td>40.460560</td>\n",
       "      <td>39.594734</td>\n",
       "      <td>1073.202715</td>\n",
       "      <td>66.830037</td>\n",
       "      <td>16681.044117</td>\n",
       "      <td>24.004812</td>\n",
       "      <td>43.756693</td>\n",
       "      <td>445.976992</td>\n",
       "      <td>1664.222023</td>\n",
       "      <td>21.912243</td>\n",
       "      <td>8</td>\n",
       "      <td>3.185837</td>\n",
       "      <td>0.403965</td>\n",
       "      <td>25.572431</td>\n",
       "      <td>0</td>\n",
       "      <td>0</td>\n",
       "      <td>1</td>\n",
       "      <td>4</td>\n",
       "      <td>16</td>\n",
       "    </tr>\n",
       "    <tr>\n",
       "      <th>1</th>\n",
       "      <td>10.088870</td>\n",
       "      <td>13.978119</td>\n",
       "      <td>43.272846</td>\n",
       "      <td>46.516394</td>\n",
       "      <td>40.027788</td>\n",
       "      <td>41.176860</td>\n",
       "      <td>517.436430</td>\n",
       "      <td>37.284163</td>\n",
       "      <td>NaN</td>\n",
       "      <td>29.431813</td>\n",
       "      <td>42.728174</td>\n",
       "      <td>499.595287</td>\n",
       "      <td>1165.111992</td>\n",
       "      <td>-35.050093</td>\n",
       "      <td>0</td>\n",
       "      <td>3.016603</td>\n",
       "      <td>0.444755</td>\n",
       "      <td>24.371823</td>\n",
       "      <td>0</td>\n",
       "      <td>0</td>\n",
       "      <td>1</td>\n",
       "      <td>3</td>\n",
       "      <td>13</td>\n",
       "    </tr>\n",
       "  </tbody>\n",
       "</table>\n",
       "</div>"
      ],
      "text/plain": [
       "   wind_speed(m/s)  atmospheric_temperature(°C)  shaft_temperature(°C)  \\\n",
       "0        94.324266                    17.641186              89.714193   \n",
       "1        10.088870                    13.978119              43.272846   \n",
       "\n",
       "   blades_angle(°)  gearbox_temperature(°C)  engine_temperature(°C)  \\\n",
       "0        51.146788                40.460560               39.594734   \n",
       "1        46.516394                40.027788               41.176860   \n",
       "\n",
       "   motor_torque(N-m)  generator_temperature(°C)  atmospheric_pressure(Pascal)  \\\n",
       "0        1073.202715                  66.830037                  16681.044117   \n",
       "1         517.436430                  37.284163                           NaN   \n",
       "\n",
       "   area_temperature(°C)  windmill_body_temperature(°C)  wind_direction(°)  \\\n",
       "0             24.004812                      43.756693         445.976992   \n",
       "1             29.431813                      42.728174         499.595287   \n",
       "\n",
       "   resistance(ohm)  rotor_torque(N-m)  turbine_status  blade_length(m)  \\\n",
       "0      1664.222023          21.912243               8         3.185837   \n",
       "1      1165.111992         -35.050093               0         3.016603   \n",
       "\n",
       "   blade_breadth(m)  windmill_height(m)  cloud_level_Extremely Low  \\\n",
       "0          0.403965           25.572431                          0   \n",
       "1          0.444755           24.371823                          0   \n",
       "\n",
       "   cloud_level_Low  cloud_level_Medium  date_month  date_week  \n",
       "0                0                   1           4         16  \n",
       "1                0                   1           3         13  "
      ]
     },
     "execution_count": 21,
     "metadata": {},
     "output_type": "execute_result"
    }
   ],
   "source": [
    "#test set\n",
    "\n",
    "df_test = data_test.iloc[:,2:]\n",
    "df_test.head(2)"
   ]
  },
  {
   "cell_type": "code",
   "execution_count": 22,
   "metadata": {},
   "outputs": [
    {
     "data": {
      "text/plain": [
       "<matplotlib.axes._subplots.AxesSubplot at 0x24de7f82b80>"
      ]
     },
     "execution_count": 22,
     "metadata": {},
     "output_type": "execute_result"
    },
    {
     "data": {
      "image/png": "[encoded data removed]",
      "text/plain": [
       "<Figure size 432x288 with 1 Axes>"
      ]
     },
     "metadata": {
      "needs_background": "light"
     },
     "output_type": "display_data"
    }
   ],
   "source": [
    "#Distribution of target variable\n",
    "\n",
    "sns.distplot(df_train['windmill_generated_power(kW/h)'])"
   ]
  },
  {
   "cell_type": "markdown",
   "metadata": {},
   "source": [
    "### Preparation for Model Building"
   ]
  },
  {
   "cell_type": "code",
   "execution_count": 23,
   "metadata": {},
   "outputs": [],
   "source": [
    "#split the data into X & y; label and feature component\n",
    "\n",
    "X=df_train.drop(['windmill_generated_power(kW/h)'],axis=1)\n",
    "y=np.log1p(df_train['windmill_generated_power(kW/h)'])\n",
    "# y=df_train['windmill_generated_power(kW/h)']"
   ]
  },
  {
   "cell_type": "code",
   "execution_count": 24,
   "metadata": {},
   "outputs": [],
   "source": [
    "#features names of the dataset\n",
    "\n",
    "features = df_train.drop(['windmill_generated_power(kW/h)'],axis=1).columns"
   ]
  },
  {
   "cell_type": "code",
   "execution_count": 25,
   "metadata": {},
   "outputs": [],
   "source": [
    "#split of train and validation set\n",
    "\n",
    "from sklearn.model_selection import train_test_split\n",
    "X_train, X_test, y_train, y_test = train_test_split(X, y, test_size=0.3, random_state=42)"
   ]
  },
  {
   "cell_type": "code",
   "execution_count": 26,
   "metadata": {},
   "outputs": [],
   "source": [
    "#scale the data\n",
    "from sklearn.preprocessing import MinMaxScaler\n",
    "scaler = MinMaxScaler()\n",
    "\n",
    "X_train = scaler.fit_transform(X_train)\n",
    "X_test = scaler.transform(X_test)"
   ]
  },
  {
   "cell_type": "code",
   "execution_count": 27,
   "metadata": {},
   "outputs": [],
   "source": [
    "#scale the data of test\n",
    "\n",
    "Test_scaled = scaler.transform(df_test)"
   ]
  },
  {
   "cell_type": "markdown",
   "metadata": {},
   "source": [
    "### Machine Learning Algorithms application"
   ]
  },
  {
   "cell_type": "code",
   "execution_count": 28,
   "metadata": {},
   "outputs": [],
   "source": [
    "from xgboost import XGBRegressor\n",
    "from sklearn.metrics import mean_squared_error, r2_score"
   ]
  },
  {
   "cell_type": "code",
   "execution_count": 47,
   "metadata": {},
   "outputs": [
    {
     "name": "stdout",
     "output_type": "stream",
     "text": [
      "mean_squared_error 0.26569514739665395\n",
      "R2 0.9628360564321239\n",
      "Metrics asked for 96.28360564321238\n"
     ]
    }
   ],
   "source": [
    "model_xgb = XGBRegressor(n_estimators=300, max_depth=6,learning_rate=0.12,reg_lambda=0.01)\n",
    "\n",
    "model_xgb.fit(X_train,y_train) #train the algo with data\n",
    "\n",
    "predict_xgb = np.expm1(model_xgb.predict(X_test)) # predict as per training\n",
    "y_test_new = np.expm1(y_test) \n",
    "\n",
    "# predict_xgb =model_xgb.predict(X_test) # predict as per training\n",
    "# y_test_new = y_test\n",
    "\n",
    "#accuracy matrics tested\n",
    "\n",
    "\n",
    "print('mean_squared_error',mean_squared_error(y_test_new,predict_xgb)) \n",
    "print('R2',r2_score(y_test_new,predict_xgb))\n",
    "print('Metrics asked for', max(0,100*r2_score(y_test_new,predict_xgb)))"
   ]
  },
  {
   "cell_type": "code",
   "execution_count": 30,
   "metadata": {},
   "outputs": [
    {
     "name": "stdout",
     "output_type": "stream",
     "text": [
      "mean_squared_error 0.06827854594255817\n",
      "R2 0.9906845828328493\n",
      "Metrics asked for 99.06845828328493\n"
     ]
    }
   ],
   "source": [
    "#Train set\n",
    "\n",
    "pred_train = np.expm1(model_xgb.predict(X_train))\n",
    "y_train_new = np.expm1(y_train)\n",
    "\n",
    "print('mean_squared_error',mean_squared_error(y_train_new,pred_train)) \n",
    "print('R2',r2_score(y_train_new,pred_train))\n",
    "print('Metrics asked for', max(0,100*r2_score(y_train_new,pred_train)))"
   ]
  },
  {
   "cell_type": "code",
   "execution_count": 31,
   "metadata": {},
   "outputs": [
    {
     "data": {
      "text/plain": [
       "[<matplotlib.lines.Line2D at 0x1fd15d0a7c0>]"
      ]
     },
     "execution_count": 31,
     "metadata": {},
     "output_type": "execute_result"
    },
    {
     "data": {
      "image/png": "[encoded data removed]",
      "text/plain": [
       "<Figure size 864x576 with 1 Axes>"
      ]
     },
     "metadata": {
      "needs_background": "light"
     },
     "output_type": "display_data"
    }
   ],
   "source": [
    "#prediction plot\n",
    "plt.figure(figsize=(12,8))\n",
    "plt.scatter(y_test_new,predict_xgb)\n",
    "plt.plot(y_test_new,y_test_new,'r')"
   ]
  },
  {
   "cell_type": "code",
   "execution_count": 32,
   "metadata": {},
   "outputs": [
    {
     "data": {
      "text/plain": [
       "<matplotlib.axes._subplots.AxesSubplot at 0x1fd15d31970>"
      ]
     },
     "execution_count": 32,
     "metadata": {},
     "output_type": "execute_result"
    },
    {
     "data": {
      "image/png": "[encoded data removed]",
      "text/plain": [
       "<Figure size 864x576 with 1 Axes>"
      ]
     },
     "metadata": {
      "needs_background": "light"
     },
     "output_type": "display_data"
    }
   ],
   "source": [
    "#Feature importance plot\n",
    "\n",
    "imp_feat=pd.Series(model_xgb.feature_importances_,index=features)\n",
    "plt.figure(figsize=(12,8))\n",
    "imp_feat.sort_values(ascending=False)[:10].plot(kind='bar')"
   ]
  },
  {
   "cell_type": "markdown",
   "metadata": {},
   "source": [
    "### Prediction for test set"
   ]
  },
  {
   "cell_type": "code",
   "execution_count": 33,
   "metadata": {},
   "outputs": [],
   "source": [
    "final_prediction = np.expm1(model_xgb.predict(Test_scaled))"
   ]
  },
  {
   "cell_type": "code",
   "execution_count": 34,
   "metadata": {},
   "outputs": [
    {
     "data": {
      "text/html": [
       "<div>\n",
       "<style scoped>\n",
       "    .dataframe tbody tr th:only-of-type {\n",
       "        vertical-align: middle;\n",
       "    }\n",
       "\n",
       "    .dataframe tbody tr th {\n",
       "        vertical-align: top;\n",
       "    }\n",
       "\n",
       "    .dataframe thead th {\n",
       "        text-align: right;\n",
       "    }\n",
       "</style>\n",
       "<table border=\"1\" class=\"dataframe\">\n",
       "  <thead>\n",
       "    <tr style=\"text-align: right;\">\n",
       "      <th></th>\n",
       "      <th>tracking_id</th>\n",
       "      <th>datetime</th>\n",
       "      <th>windmill_generated_power(kW/h)</th>\n",
       "    </tr>\n",
       "  </thead>\n",
       "  <tbody>\n",
       "    <tr>\n",
       "      <th>0</th>\n",
       "      <td>WM_19817</td>\n",
       "      <td>2019-04-17 08:53:20</td>\n",
       "      <td>2.480834</td>\n",
       "    </tr>\n",
       "    <tr>\n",
       "      <th>1</th>\n",
       "      <td>WM_18723</td>\n",
       "      <td>2019-03-30 07:43:20</td>\n",
       "      <td>2.405610</td>\n",
       "    </tr>\n",
       "    <tr>\n",
       "      <th>2</th>\n",
       "      <td>WM_34552</td>\n",
       "      <td>2019-08-10 11:33:20</td>\n",
       "      <td>3.529266</td>\n",
       "    </tr>\n",
       "    <tr>\n",
       "      <th>3</th>\n",
       "      <td>WM_28570</td>\n",
       "      <td>2019-06-26 03:53:20</td>\n",
       "      <td>6.078834</td>\n",
       "    </tr>\n",
       "    <tr>\n",
       "      <th>4</th>\n",
       "      <td>WM_36934</td>\n",
       "      <td>2019-08-27 16:43:20</td>\n",
       "      <td>3.531116</td>\n",
       "    </tr>\n",
       "  </tbody>\n",
       "</table>\n",
       "</div>"
      ],
      "text/plain": [
       "  tracking_id            datetime  windmill_generated_power(kW/h)\n",
       "0    WM_19817 2019-04-17 08:53:20                        2.480834\n",
       "1    WM_18723 2019-03-30 07:43:20                        2.405610\n",
       "2    WM_34552 2019-08-10 11:33:20                        3.529266\n",
       "3    WM_28570 2019-06-26 03:53:20                        6.078834\n",
       "4    WM_36934 2019-08-27 16:43:20                        3.531116"
      ]
     },
     "execution_count": 34,
     "metadata": {},
     "output_type": "execute_result"
    }
   ],
   "source": [
    "final_df = pd.DataFrame({'tracking_id':data_test['tracking_id'],'datetime':data_test['datetime'],'windmill_generated_power(kW/h)':final_prediction})\n",
    "final_df.head()"
   ]
  },
  {
   "cell_type": "code",
   "execution_count": 45,
   "metadata": {},
   "outputs": [],
   "source": [
    "# final_df.to_csv('Submission007.csv',index=False)"
   ]
  }
 ],
 "metadata": {
  "kernelspec": {
   "display_name": "Python 3",
   "language": "python",
   "name": "python3"
  },
  "language_info": {
   "codemirror_mode": {
    "name": "ipython",
    "version": 3
   },
   "file_extension": ".py",
   "mimetype": "text/x-python",
   "name": "python",
   "nbconvert_exporter": "python",
   "pygments_lexer": "ipython3",
   "version": "3.8.3"
  }
 },
 "nbformat": 4,
 "nbformat_minor": 4
}
